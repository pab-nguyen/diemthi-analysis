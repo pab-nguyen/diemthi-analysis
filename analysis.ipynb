{
 "cells": [
  {
   "cell_type": "code",
   "execution_count": 1,
   "metadata": {},
   "outputs": [],
   "source": [
    "import pandas as pd\n",
    "import numpy as np\n",
    "import matplotlib.pyplot as plt\n",
    "from datetime import datetime, date, timedelta\n",
    "import os\n"
   ]
  },
  {
   "cell_type": "code",
   "execution_count": 7,
   "metadata": {},
   "outputs": [
    {
     "name": "stdout",
     "output_type": "stream",
     "text": [
      "                <Họ và Tên  Ngày sinh  Toán   Văn  Lý  Hoá  Sinh    Sử  Địa  \\\n",
      "0      PHẠM HOÀNG HƯƠNG ÁI 2002-11-04   6.6  6.25  -1   -1  -1.0  5.75   -1   \n",
      "1       ĐẶNG HUỲNH VĨNH AN 2002-12-13   8.2  7.75  -1   -1  -1.0  7.00   -1   \n",
      "2  LÂM NGUYỄN MỘNG THÙY AN 2001-04-06   6.8  6.75  -1   -1  -1.0  4.75   -1   \n",
      "3         LÊ TIÊU HOÀNG AN 2002-11-18   7.8  6.25  -1   -1   7.0 -1.00   -1   \n",
      "4              LƯ THUẬN AN 2002-01-14   6.4  6.50  -1   -1   5.5 -1.00   -1   \n",
      "\n",
      "   GDCD  KHTN  KHXH   TA   TP   TT   TN   TD  TNga      Today   Age  \n",
      "0  7.25 -1.00  6.67  5.2 -1.0 -1.0 -1.0 -1.0    -1 2020-07-07  18.0  \n",
      "1  8.50 -1.00  7.58  7.0 -1.0 -1.0 -1.0 -1.0    -1 2020-07-07  18.0  \n",
      "2  8.25 -1.00  6.92  6.0 -1.0 -1.0 -1.0 -1.0    -1 2020-07-07  19.0  \n",
      "3 -1.00  6.25 -1.00  5.6 -1.0 -1.0 -1.0 -1.0    -1 2020-07-07  18.0  \n",
      "4 -1.00  6.17 -1.00  8.2 -1.0 -1.0 -1.0 -1.0    -1 2020-07-07  18.0  \n"
     ]
    },
    {
     "data": {
      "text/plain": [
       "<AxesSubplot:>"
      ]
     },
     "execution_count": 7,
     "metadata": {},
     "output_type": "execute_result"
    },
    {
     "data": {
      "image/png": "[encoded data removed]",
      "text/plain": [
       "<Figure size 432x288 with 1 Axes>"
      ]
     },
     "metadata": {
      "needs_background": "light"
     },
     "output_type": "display_data"
    }
   ],
   "source": [
    "os.chdir(\"C:/Users/nguyen_phan/Downloads/Data Science Projects/diemthi-analysis\")\n",
    "df = pd.read_csv(\"sobaodanh.csv\")\n",
    "\n",
    "\n"
   ]
  },
  {
   "cell_type": "code",
   "execution_count": null,
   "metadata": {},
   "outputs": [],
   "source": [
    "df['Today'] = pd.to_datetime(\"07/07/2020\",format=\"%d/%m/%Y\")\n",
    "df['Ngày sinh'] = pd.to_datetime(df['Ngày sinh'],format = '%d/%m/%Y',errors='coerce')\n",
    "\n",
    "df['Age'] = round((df['Today'] - df['Ngày sinh'])/timedelta(days=365))\n",
    "print(df.head())\n",
    "\n",
    "\n",
    "fig, ax = plt.subplots()\n",
    "df['Age'].value_counts().plot(ax=ax, kind='barh')\n",
    "\n",
    "\n",
    "# fig, ax = plt.subplots()\n",
    "\n",
    "# dftoan = df.loc[df['Toán']>-1]\n",
    "\n",
    "# # fig, ax = plt.subplots()\n",
    "# # ax.plot(df['Toán'])\n",
    "# plt.show()"
   ]
  },
  {
   "cell_type": "markdown",
   "metadata": {},
   "source": []
  },
  {
   "cell_type": "code",
   "execution_count": null,
   "metadata": {},
   "outputs": [],
   "source": []
  }
 ],
 "metadata": {
  "kernelspec": {
   "display_name": "Python 3",
   "language": "python",
   "name": "python3"
  },
  "language_info": {
   "codemirror_mode": {
    "name": "ipython",
    "version": 3
   },
   "file_extension": ".py",
   "mimetype": "text/x-python",
   "name": "python",
   "nbconvert_exporter": "python",
   "pygments_lexer": "ipython3",
   "version": "3.7.3"
  }
 },
 "nbformat": 4,
 "nbformat_minor": 4
}
